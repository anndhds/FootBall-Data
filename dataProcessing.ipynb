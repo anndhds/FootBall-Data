{
 "cells": [
  {
   "cell_type": "code",
   "execution_count": 19,
   "metadata": {},
   "outputs": [],
   "source": [
    "# Mengimpor library\n",
    "import os\n",
    "import datetime\n",
    "import numpy as np\n",
    "import pandas as pd\n",
    "from datetime import datetime"
   ]
  },
  {
   "cell_type": "code",
   "execution_count": 20,
   "metadata": {},
   "outputs": [
    {
     "name": "stdout",
     "output_type": "stream",
     "text": [
      "input\\appearances.csv appearances_df (1518593, 13)\n",
      "input\\clubs.csv clubs_df (426, 17)\n",
      "input\\club_games.csv club_games_df (131306, 11)\n",
      "input\\competitions.csv competitions_df (43, 10)\n",
      "input\\games.csv games_df (65653, 23)\n",
      "input\\game_events.csv game_events_df (673431, 10)\n"
     ]
    },
    {
     "name": "stderr",
     "output_type": "stream",
     "text": [
      "C:\\Users\\Lenovo\\anaconda3\\lib\\site-packages\\IPython\\core\\interactiveshell.py:3444: DtypeWarning: Columns (4) have mixed types.Specify dtype option on import or set low_memory=False.\n",
      "  exec(code_obj, self.user_global_ns, self.user_ns)\n"
     ]
    },
    {
     "name": "stdout",
     "output_type": "stream",
     "text": [
      "input\\game_lineups.csv game_lineups_df (137258, 9)\n",
      "input\\players.csv players_df (30332, 23)\n",
      "input\\player_valuations.csv player_valuations_df (460537, 7)\n",
      "input\\test.csv test_df (341, 15)\n",
      "input\\train_data.csv train_data_df (1703, 7)\n"
     ]
    }
   ],
   "source": [
    "# Memuat dataset\n",
    "list_of_dataframes = list()\n",
    "\n",
    "# variabel untuk menyimpan data yang ada di folder input\n",
    "players_df = None\n",
    "competitions_df = None\n",
    "games_df = None\n",
    "game_events_df = None\n",
    "club_games_df = None\n",
    "player_valuations_df = None\n",
    "game_lineups_df = None\n",
    "appearances_df = None\n",
    "clubs_df = None\n",
    "\n",
    "# pengulangan melalui file-file di folder 'input' dan memuatnya ke dalam DataFrames\n",
    "for dirname, _, filenames in os.walk('input'):\n",
    "    for filename in filenames:\n",
    "        # Buat nama DataFrame berdasarkan nama file\n",
    "        df_name = filename.split('.')[0] + '_df'\n",
    "        file = os.path.join(dirname, filename)\n",
    "        \n",
    "        # Baca file CSV dan buat DataFrame dengan nama dinamis\n",
    "        df = pd.read_csv(file, sep=\",\", encoding=\"UTF-8\")\n",
    "        exec(f'{df_name} = df.copy()')\n",
    "        print(file, df_name, df.shape)\n",
    "        list_of_dataframes.append(df)\n"
   ]
  },
  {
   "cell_type": "code",
   "execution_count": 21,
   "metadata": {},
   "outputs": [
    {
     "name": "stdout",
     "output_type": "stream",
     "text": [
      "Empty DataFrame\n",
      "Columns: [player_id, first_name, last_name, name, last_season, current_club_id, player_code, country_of_birth, city_of_birth, country_of_citizenship, date_of_birth, sub_position, position, foot, height_in_cm, contract_expiration_date, agent_name, image_url, url, current_club_domestic_competition_id, current_club_name, market_value_in_eur, highest_market_value_in_eur]\n",
      "Index: []\n",
      "\n",
      "[0 rows x 23 columns]\n"
     ]
    }
   ],
   "source": [
    "\n",
    "# Pastikan DataFrame players_df sudah diinisialisasi\n",
    "# players_df = ...\n",
    "\n",
    "# Pilih pemain dengan tanggal lahir yang kosong dan musim terakhir sama dengan 2023\n",
    "selected_players = players_df[(players_df['date_of_birth'].isna()) & (players_df['last_season'] == 2023)]\n",
    "\n",
    "# Tampilkan hasil seleksi\n",
    "print(selected_players)\n"
   ]
  },
  {
   "cell_type": "code",
   "execution_count": 22,
   "metadata": {},
   "outputs": [],
   "source": [
    "# Hitung umur setiap pemain dan sisa hari dalam kontrak mereka\n",
    "# Hapus pemain yang tidak memiliki tanggal lahir atau tanggal kedaluwarsa kontrak\n",
    "# Bulatkan umur ke bilangan bulat terdekat\n",
    "players_df['date_of_birth'] = pd.to_datetime(players_df['date_of_birth'])\n",
    "players_df = players_df[players_df['date_of_birth'].isnull() == False]\n",
    "now = datetime.now()\n",
    "players_df['age'] = (now - players_df['date_of_birth']).apply(lambda x: x.days) / 365.25\n",
    "players_df['age'] = players_df['age'].round().astype(int)\n",
    "players_df['contract_expiration_date'] = pd.to_datetime(players_df['contract_expiration_date'])\n",
    "players_df = players_df[players_df['contract_expiration_date'].isnull() == False]\n",
    "players_df['term_days_remaining'] = (players_df['contract_expiration_date'] - now).apply(lambda x: x.days)"
   ]
  },
  {
   "cell_type": "code",
   "execution_count": 23,
   "metadata": {},
   "outputs": [
    {
     "name": "stderr",
     "output_type": "stream",
     "text": [
      "C:\\Users\\Lenovo\\AppData\\Local\\Temp/ipykernel_2264/4198060440.py:16: SettingWithCopyWarning: \n",
      "A value is trying to be set on a copy of a slice from a DataFrame\n",
      "\n",
      "See the caveats in the documentation: https://pandas.pydata.org/pandas-docs/stable/user_guide/indexing.html#returning-a-view-versus-a-copy\n",
      "  merged_players_df.club_value[(players_df.player_id==player_id)]='NaN'\n",
      "C:\\Users\\Lenovo\\AppData\\Local\\Temp/ipykernel_2264/4198060440.py:17: SettingWithCopyWarning: \n",
      "A value is trying to be set on a copy of a slice from a DataFrame\n",
      "\n",
      "See the caveats in the documentation: https://pandas.pydata.org/pandas-docs/stable/user_guide/indexing.html#returning-a-view-versus-a-copy\n",
      "  merged_players_df.squad_size[(players_df.player_id==player_id)]=int((clubs_df.squad_size[(clubs_df.club_id==int(club_id))]))\n"
     ]
    },
    {
     "name": "stdout",
     "output_type": "stream",
     "text": [
      "Data Pemain dan Klub digabungkan\n"
     ]
    }
   ],
   "source": [
    "# Buat DataFrame merged_players_df dengan menghapus beberapa kolom\n",
    "# Reindeks kolom dan tambahkan kolom baru dari clubs_df\n",
    "# Urutkan urutan kolom\n",
    "merged_players_df = players_df.drop(['current_club_id', 'city_of_birth', 'date_of_birth', 'first_name', 'last_name', 'player_code', 'image_url', 'url'], axis=1)\n",
    "merged_players_df = merged_players_df.reindex(columns=merged_players_df.columns.tolist() + ['club_value', 'squad_size', 'goals', 'goals_2022', 'games_2022', 'assists_2022', 'minutes_played_2022', 'goals_against_2022', 'goals_for_2022', 'clean_sheet_2022'])\n",
    "\n",
    "# pengulangan melalui ID pemain untuk mengisi informasi terkait klub\n",
    "for player_id in merged_players_df.player_id.unique():\n",
    "    #print(players_df.current_club_id[(players_df.player_id==player_id)])\n",
    "    club_id= players_df.current_club_id[(players_df.player_id==player_id)]\n",
    "    #print(clubs_df.total_market_value[(clubs_df.club_id==int(club_id))])\n",
    "    #print(clubs_df.squad_size[(clubs_df.club_id==int(club_id))])\n",
    "    try:\n",
    "        merged_players_df.club_value[(players_df.player_id==player_id)]=int(clubs_df.total_market_value[(clubs_df.club_id==int(club_id))])\n",
    "    except:\n",
    "        merged_players_df.club_value[(players_df.player_id==player_id)]='NaN'  \n",
    "    merged_players_df.squad_size[(players_df.player_id==player_id)]=int((clubs_df.squad_size[(clubs_df.club_id==int(club_id))]))\n",
    "\n",
    "columns=['player_id','games_2022','minutes_played_2022','goals_2022','assists_2022','goals_against_2022','goals_for_2022','clean_sheet_2022','name','position','sub_position','last_season','foot','height_in_cm','age','country_of_citizenship','country_of_birth','current_club_name','club_value','squad_size','current_club_domestic_competition_id','agent_name','contract_expiration_date','term_days_remaining','market_value_in_eur','highest_market_value_in_eur']\n",
    "merged_players_df=merged_players_df[columns]\n",
    "\n",
    "# Gabungkan DataFrames games dan appearances\n",
    "games_and_appearances_df = appearances_df.merge(games_df, on=['game_id'], how='left')\n",
    "print('Data Pemain dan Klub digabungkan')"
   ]
  },
  {
   "cell_type": "code",
   "execution_count": 24,
   "metadata": {},
   "outputs": [
    {
     "name": "stdout",
     "output_type": "stream",
     "text": [
      "appearance,goal and card data merged\n",
      "<class 'pandas.core.frame.DataFrame'>\n",
      "Int64Index: 18881 entries, 9 to 30331\n",
      "Data columns (total 28 columns):\n",
      " #   Column                                Non-Null Count  Dtype         \n",
      "---  ------                                --------------  -----         \n",
      " 0   player_id                             18881 non-null  int64         \n",
      " 1   games_2022                            18881 non-null  float64       \n",
      " 2   minutes_played_2022                   18881 non-null  float64       \n",
      " 3   goals_2022                            18881 non-null  float64       \n",
      " 4   assists_2022                          18881 non-null  float64       \n",
      " 5   goals_against_2022                    18881 non-null  float64       \n",
      " 6   goals_for_2022                        18881 non-null  float64       \n",
      " 7   clean_sheet_2022                      18881 non-null  float64       \n",
      " 8   name                                  18881 non-null  object        \n",
      " 9   position                              18881 non-null  object        \n",
      " 10  sub_position                          18846 non-null  object        \n",
      " 11  last_season                           18881 non-null  int64         \n",
      " 12  foot                                  17866 non-null  object        \n",
      " 13  height_in_cm                          17930 non-null  float64       \n",
      " 14  age                                   18881 non-null  int32         \n",
      " 15  country_of_citizenship                18497 non-null  object        \n",
      " 16  country_of_birth                      17348 non-null  object        \n",
      " 17  current_club_name                     18881 non-null  object        \n",
      " 18  club_value                            18881 non-null  object        \n",
      " 19  squad_size                            18881 non-null  float64       \n",
      " 20  current_club_domestic_competition_id  18881 non-null  object        \n",
      " 21  agent_name                            11478 non-null  object        \n",
      " 22  contract_expiration_date              18881 non-null  datetime64[ns]\n",
      " 23  term_days_remaining                   18881 non-null  int64         \n",
      " 24  market_value_in_eur                   18439 non-null  float64       \n",
      " 25  highest_market_value_in_eur           18439 non-null  float64       \n",
      " 26  yellow_cards_2022                     18881 non-null  float64       \n",
      " 27  red_cards_2022                        18881 non-null  float64       \n",
      "dtypes: datetime64[ns](1), float64(13), int32(1), int64(3), object(10)\n",
      "memory usage: 4.6+ MB\n",
      "None\n"
     ]
    }
   ],
   "source": [
    "# Gabungkan kembali games dan appearances\n",
    "games_and_appearances_df = appearances_df.merge(games_df, on=['game_id'], how='left')\n",
    "season = 2022\n",
    "\n",
    "# Buat fungsi untuk mengumpulkan statistik pemain berdasarkan player_id dan season\n",
    "def player_stats(player_id, season, df):\n",
    "    df = games_and_appearances_df[games_and_appearances_df['player_id'] == player_id]\n",
    "    df =  df[ df['season'] == season]    \n",
    "    if (df.shape[0] == 0):\n",
    "        Out = [(np.nan, season,0,0,0,0,0,0,0,0,0)]\n",
    "        out_df = pd.DataFrame(data = Out, columns = ['player_id','season','goals','games',\n",
    "                                                     'assists','minutes_played','goals_for','goals_against','clean_sheet','yellow_cards','red_cards'])\n",
    "        return out_df    \n",
    "    else:       \n",
    "        df[\"goals_for\"] = df.apply(lambda row: row['home_club_goals'] if row['home_club_id'] == row['player_club_id'] \n",
    "            else row['away_club_goals'] if row['away_club_id'] == row['player_club_id'] \n",
    "            else np.nan, axis=1)\n",
    "        df[\"goals_against\"] = df.apply(lambda row: row['away_club_goals'] if row['home_club_id'] == row['player_club_id'] \n",
    "            else row['home_club_goals'] if row['away_club_id'] == row['player_club_id'] \n",
    "            else np.nan, axis=1)\n",
    "        df['clean_sheet'] = df.apply(lambda row: 1 if row['goals_against'] == 0\n",
    "            else 0 if row['goals_against'] > 0\n",
    "            else np.nan, axis=1)\n",
    "        df = df.groupby(['player_id',\"season\"],as_index=False).agg({'goals': 'sum', 'game_id': 'nunique', \n",
    "                                                                      'assists': 'sum', 'minutes_played' : 'sum', 'goals_for' : 'sum',\n",
    "                                                                      'goals_against' : 'sum', 'clean_sheet' : 'sum','yellow_cards':'sum','red_cards':'sum'})\n",
    "        out_df = df.rename(columns={'game_id': 'games'})\n",
    "        return out_df\n",
    "\n",
    "for index in merged_players_df.index:\n",
    "    id = merged_players_df.loc[index][0]\n",
    "    name = merged_players_df.loc[index][1]\n",
    "    stats = player_stats(id, season, games_and_appearances_df)\n",
    "    try:\n",
    "        merged_players_df.at[index,'games_{}'.format(season)]= stats['games'][0]\n",
    "        merged_players_df.at[index,'goals_{}'.format(season)]= stats['goals'][0]\n",
    "        merged_players_df.at[index,'assists_{}'.format(season)]= stats['assists'][0]\n",
    "        merged_players_df.at[index,'minutes_played_{}'.format(season)]= stats['minutes_played'][0]\n",
    "        merged_players_df.at[index,'goals_for_{}'.format(season)]= stats['goals_for'][0]\n",
    "        merged_players_df.at[index,'goals_against_{}'.format(season)]= stats['goals_against'][0]\n",
    "        merged_players_df.at[index,'clean_sheet_{}'.format(season)]= stats['clean_sheet'][0]\n",
    "        merged_players_df.at[index,'yellow_cards_{}'.format(season)]= stats['yellow_cards'][0]\n",
    "        merged_players_df.at[index,'red_cards_{}'.format(season)]= stats['red_cards'][0]\n",
    "    except:\n",
    "        n=n+1\n",
    "\n",
    "print('appearance,goal and card data merged')\n",
    "print(merged_players_df.info())"
   ]
  },
  {
   "cell_type": "code",
   "execution_count": 25,
   "metadata": {},
   "outputs": [
    {
     "name": "stdout",
     "output_type": "stream",
     "text": [
      "<class 'pandas.core.frame.DataFrame'>\n",
      "Int64Index: 18881 entries, 0 to 18880\n",
      "Data columns (total 38 columns):\n",
      " #   Column                                Non-Null Count  Dtype         \n",
      "---  ------                                --------------  -----         \n",
      " 0   player_id                             18881 non-null  int64         \n",
      " 1   games_2022                            18881 non-null  float64       \n",
      " 2   minutes_played_2022                   18881 non-null  float64       \n",
      " 3   goals_2022                            18881 non-null  float64       \n",
      " 4   assists_2022                          18881 non-null  float64       \n",
      " 5   goals_against_2022                    18881 non-null  float64       \n",
      " 6   goals_for_2022                        18881 non-null  float64       \n",
      " 7   clean_sheet_2022                      18881 non-null  float64       \n",
      " 8   name_player                           18881 non-null  object        \n",
      " 9   position                              18881 non-null  object        \n",
      " 10  sub_position                          18846 non-null  object        \n",
      " 11  last_season                           18881 non-null  int64         \n",
      " 12  foot                                  17866 non-null  object        \n",
      " 13  height_in_cm                          17930 non-null  float64       \n",
      " 14  age                                   18881 non-null  int32         \n",
      " 15  country_of_citizenship                18497 non-null  object        \n",
      " 16  country_of_birth                      17348 non-null  object        \n",
      " 17  current_club_name                     18881 non-null  object        \n",
      " 18  club_value                            18881 non-null  object        \n",
      " 19  squad_size                            18881 non-null  float64       \n",
      " 20  current_club_domestic_competition_id  18881 non-null  object        \n",
      " 21  agent_name                            11478 non-null  object        \n",
      " 22  contract_expiration_date              18881 non-null  datetime64[ns]\n",
      " 23  term_days_remaining                   18881 non-null  int64         \n",
      " 24  market_value_in_eur                   18439 non-null  float64       \n",
      " 25  highest_market_value_in_eur           18439 non-null  float64       \n",
      " 26  yellow_cards_2022                     18881 non-null  float64       \n",
      " 27  red_cards_2022                        18881 non-null  float64       \n",
      " 28  competition_id                        18881 non-null  object        \n",
      " 29  competition_code                      18881 non-null  object        \n",
      " 30  name_competition                      18881 non-null  object        \n",
      " 31  sub_type                              18881 non-null  object        \n",
      " 32  type                                  18881 non-null  object        \n",
      " 33  country_id                            18881 non-null  int64         \n",
      " 34  country_name                          18881 non-null  object        \n",
      " 35  domestic_league_code                  18881 non-null  object        \n",
      " 36  confederation                         18881 non-null  object        \n",
      " 37  url                                   18881 non-null  object        \n",
      "dtypes: datetime64[ns](1), float64(13), int32(1), int64(4), object(19)\n",
      "memory usage: 5.5+ MB\n",
      "None\n"
     ]
    }
   ],
   "source": [
    "# Gabungkan merged_players_df dengan competitions_df berdasarkan 'current_club_domestic_competition_id'\n",
    "suffixes = ('_player', '_competition')\n",
    "dataProcessed = pd.merge(merged_players_df, competitions_df, left_on='current_club_domestic_competition_id', right_on='competition_id', how='left', suffixes=suffixes)\n",
    "\n",
    "# Tampilkan informasi tentang dataframe yang digabungkan dan simpan ke file CSV\n",
    "dataProcessed.to_csv('output/dataProcessed.csv', index=False)\n",
    "print(dataProcessed.info())\n"
   ]
  },
  {
   "cell_type": "code",
   "execution_count": null,
   "metadata": {},
   "outputs": [],
   "source": []
  }
 ],
 "metadata": {
  "kernelspec": {
   "display_name": "Python 3 (ipykernel)",
   "language": "python",
   "name": "python3"
  },
  "language_info": {
   "codemirror_mode": {
    "name": "ipython",
    "version": 3
   },
   "file_extension": ".py",
   "mimetype": "text/x-python",
   "name": "python",
   "nbconvert_exporter": "python",
   "pygments_lexer": "ipython3",
   "version": "3.9.7"
  }
 },
 "nbformat": 4,
 "nbformat_minor": 2
}
